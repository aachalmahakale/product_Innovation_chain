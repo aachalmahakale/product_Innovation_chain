{
 "cells": [
  {
   "cell_type": "code",
   "execution_count": null,
   "id": "ffa01064",
   "metadata": {
    "vscode": {
     "languageId": "plaintext"
    }
   },
   "outputs": [],
   "source": [
    "import pandas as pd"
   ]
  },
  {
   "cell_type": "code",
   "execution_count": null,
   "id": "de331e72",
   "metadata": {
    "vscode": {
     "languageId": "plaintext"
    }
   },
   "outputs": [],
   "source": [
    "df_feat = pd.read_parquet(\"features.parquet\")\n",
    "df_cand = pd.read_csv(\"top_candidates_all.csv\")\n",
    "df_cand.head(10)"
   ]
  },
  {
   "cell_type": "markdown",
   "id": "37186473",
   "metadata": {},
   "source": [
    "## Top-10 Screened Variants\n",
    "Here are our highest‐scoring in-silico product variants, ranked by predicted rating."
   ]
  },
  {
   "cell_type": "code",
   "execution_count": null,
   "id": "d6636f70",
   "metadata": {
    "vscode": {
     "languageId": "plaintext"
    }
   },
   "outputs": [],
   "source": [
    "from IPython.display import Image\n",
    "Image(\"images/feature_importances.png\", width=600)"
   ]
  },
  {
   "cell_type": "markdown",
   "id": "d25631ea",
   "metadata": {},
   "source": [
    "The chart above shows the top 20 features—price_range, title_length, and key description terms—that most influence our predicted rating."
   ]
  },
  {
   "cell_type": "code",
   "execution_count": null,
   "id": "fc57234a",
   "metadata": {
    "vscode": {
     "languageId": "plaintext"
    }
   },
   "outputs": [],
   "source": [
    "Image(\"images/forecast_comparison_B003L62T7W.png\", width=600)"
   ]
  },
  {
   "cell_type": "markdown",
   "id": "47a19cf5",
   "metadata": {},
   "source": [
    "## Lifecycle Projections\n",
    "Here’s how our top variants for product B003L62T7W are expected to perform over the next 6 months.\n"
   ]
  },
  {
   "cell_type": "code",
   "execution_count": null,
   "id": "1f0e0e67",
   "metadata": {
    "vscode": {
     "languageId": "plaintext"
    }
   },
   "outputs": [],
   "source": []
  }
 ],
 "metadata": {
  "language_info": {
   "name": "python"
  }
 },
 "nbformat": 4,
 "nbformat_minor": 5
}
